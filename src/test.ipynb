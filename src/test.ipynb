{
 "cells": [
  {
   "cell_type": "code",
   "execution_count": 1,
   "id": "initial_id",
   "metadata": {
    "collapsed": true,
    "ExecuteTime": {
     "end_time": "2024-02-14T01:40:14.013050Z",
     "start_time": "2024-02-14T01:40:13.449628Z"
    }
   },
   "outputs": [
    {
     "name": "stdout",
     "output_type": "stream",
     "text": [
      "tensor([1.], device='mps:0')\n"
     ]
    }
   ],
   "source": [
    "import torch\n",
    "if torch.backends.mps.is_available():\n",
    "    mps_device = torch.device(\"mps\")\n",
    "    x = torch.ones(1, device=mps_device)\n",
    "    print (x)\n",
    "else:\n",
    "    print (\"MPS device not found.\")"
   ]
  },
  {
   "cell_type": "code",
   "outputs": [
    {
     "name": "stdout",
     "output_type": "stream",
     "text": [
      "CPU Time: 37.98 seconds\n",
      "MPS Time: 5.45 seconds\n"
     ]
    }
   ],
   "source": [
    "# Benchmark CPU vs GPU on my Macbook\n",
    "\n",
    "import torch\n",
    "import time\n",
    "\n",
    "# Function to perform benchmark\n",
    "def benchmark(device):\n",
    "    # Size of the matrices to multiply\n",
    "    size = (8000, 8000)\n",
    "    \n",
    "    # Creating two large matrices\n",
    "    a = torch.randn(size, device=device)\n",
    "    b = torch.randn(size, device=device)\n",
    "    \n",
    "    # Warm-up (to ensure fair comparison, especially for MPS)\n",
    "    for _ in range(10):\n",
    "        _ = torch.matmul(a, b)\n",
    "    \n",
    "    # Timing the matrix multiplication\n",
    "    start_time = time.time()\n",
    "    for _ in range(100):\n",
    "        _ = torch.matmul(a, b)\n",
    "    end_time = time.time()\n",
    "    \n",
    "    return end_time - start_time\n",
    "\n",
    "# Benchmark on CPU\n",
    "cpu_time = benchmark(torch.device(\"cpu\"))\n",
    "print(f\"CPU Time: {cpu_time:.2f} seconds\")\n",
    "\n",
    "# Benchmark on MPS (if available)\n",
    "if torch.backends.mps.is_available():\n",
    "    mps_time = benchmark(torch.device(\"mps\"))\n",
    "    print(f\"MPS Time: {mps_time:.2f} seconds\")\n",
    "else:\n",
    "    print(\"MPS not available on this system.\")\n",
    "\n",
    "# You can compare cpu_time and mps_time to see the performance difference.\n"
   ],
   "metadata": {
    "collapsed": false,
    "ExecuteTime": {
     "end_time": "2024-02-14T01:42:08.338216Z",
     "start_time": "2024-02-14T01:41:19.781388Z"
    }
   },
   "id": "7fce648b8954cbc1",
   "execution_count": 6
  },
  {
   "cell_type": "code",
   "outputs": [],
   "source": [],
   "metadata": {
    "collapsed": false
   },
   "id": "2d0fc88c64ee4d89"
  }
 ],
 "metadata": {
  "kernelspec": {
   "display_name": "Python 3",
   "language": "python",
   "name": "python3"
  },
  "language_info": {
   "codemirror_mode": {
    "name": "ipython",
    "version": 2
   },
   "file_extension": ".py",
   "mimetype": "text/x-python",
   "name": "python",
   "nbconvert_exporter": "python",
   "pygments_lexer": "ipython2",
   "version": "2.7.6"
  }
 },
 "nbformat": 4,
 "nbformat_minor": 5
}
